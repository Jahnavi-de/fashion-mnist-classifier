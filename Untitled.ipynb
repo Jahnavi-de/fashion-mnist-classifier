{
 "cells": [
  {
   "cell_type": "code",
   "execution_count": 5,
   "id": "6839d014-e2f0-4a7b-aa73-7c6d30f19350",
   "metadata": {},
   "outputs": [
    {
     "name": "stdout",
     "output_type": "stream",
     "text": [
      "Files extracted to C:\\Users\\KIIT0001\\extracted_images\n"
     ]
    }
   ],
   "source": [
    "import tarfile\n",
    "\n",
    "# Path to the .tar file\n",
    "tar_path = r'C:\\Users\\KIIT0001\\images_000.tar'  # Ensure this path is correct\n",
    "\n",
    "# Path where you want to extract the contents\n",
    "extract_path = r'C:\\Users\\KIIT0001\\extracted_images'  # Change this to your desired directory\n",
    "\n",
    "# Open the .tar file and extract its contents\n",
    "with tarfile.open(tar_path, 'r') as tar:\n",
    "    tar.extractall(path=extract_path)\n",
    "print(f\"Files extracted to {extract_path}\")\n"
   ]
  },
  {
   "cell_type": "code",
   "execution_count": 6,
   "id": "f011e6aa-ab2f-4fd4-a18c-8c7318886ec4",
   "metadata": {},
   "outputs": [
    {
     "name": "stdout",
     "output_type": "stream",
     "text": [
      "Defaulting to user installation because normal site-packages is not writeable\n",
      "Requirement already satisfied: pillow in c:\\users\\kiit0001\\appdata\\roaming\\python\\python311\\site-packages (10.1.0)\n"
     ]
    }
   ],
   "source": [
    "!pip install pillow\n"
   ]
  },
  {
   "cell_type": "code",
   "execution_count": 7,
   "id": "e043b036-760d-4d7c-bc4d-62b1f826e69b",
   "metadata": {},
   "outputs": [],
   "source": [
    "import os\n",
    "from PIL import Image\n",
    "import matplotlib.pyplot as plt\n",
    "\n",
    "# Define the path to the extracted images\n",
    "image_folder = r'C:\\Users\\KIIT0001\\extracted_images'  # Change this if necessary\n",
    "\n",
    "# List all files in the extracted folder\n",
    "image_files = [f for f in os.listdir(image_folder) if f.endswith(('.png', '.jpg', '.jpeg', '.bmp'))]\n",
    "\n",
    "# Display each image\n",
    "for image_file in image_files:\n",
    "    image_path = os.path.join(image_folder, image_file)\n",
    "    \n",
    "    # Open the image\n",
    "    with Image.open(image_path) as img:\n",
    "        # Display the image using matplotlib\n",
    "        plt.imshow(img)\n",
    "        plt.axis('off')  # Hide the axis\n",
    "        plt.show()\n"
   ]
  },
  {
   "cell_type": "code",
   "execution_count": null,
   "id": "8df24982-ed2f-44dd-bd78-66c66dc33ed2",
   "metadata": {},
   "outputs": [],
   "source": []
  }
 ],
 "metadata": {
  "kernelspec": {
   "display_name": "Python 3 (ipykernel)",
   "language": "python",
   "name": "python3"
  },
  "language_info": {
   "codemirror_mode": {
    "name": "ipython",
    "version": 3
   },
   "file_extension": ".py",
   "mimetype": "text/x-python",
   "name": "python",
   "nbconvert_exporter": "python",
   "pygments_lexer": "ipython3",
   "version": "3.11.5"
  }
 },
 "nbformat": 4,
 "nbformat_minor": 5
}
